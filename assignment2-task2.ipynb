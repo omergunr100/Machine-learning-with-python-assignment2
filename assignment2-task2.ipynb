{
 "cells": [
  {
   "cell_type": "code",
   "execution_count": 1,
   "id": "d1535376-2807-4bca-98d6-9e9519003015",
   "metadata": {
    "ExecuteTime": {
     "start_time": "2023-04-24T21:15:01.971031Z",
     "end_time": "2023-04-24T21:15:01.987754Z"
    }
   },
   "outputs": [],
   "source": [
    "### in this task missing values *should be imputed* with the mean value of the column\n",
    "### impute missing values only in columns required for solutions"
   ]
  },
  {
   "cell_type": "code",
   "execution_count": 2,
   "id": "f8255ea1-d3e9-4fbd-90b1-02d0ff7b7f9e",
   "metadata": {
    "ExecuteTime": {
     "start_time": "2023-04-24T21:15:01.989715Z",
     "end_time": "2023-04-24T21:15:02.000796Z"
    }
   },
   "outputs": [],
   "source": [
    "import pandas as pd\n",
    "import matplotlib.pyplot as plt\n",
    "plt.rcParams.update({'font.size': 20, 'figure.figsize': (8, 4)})\n",
    "\n",
    "#%matplotlib inline\n",
    "#import matplotlib_inline\n",
    "#matplotlib_inline.backend_inline.set_matplotlib_formats('svg')\n",
    "\n",
    "import seaborn as sns\n",
    "sns.set()"
   ]
  },
  {
   "cell_type": "code",
   "execution_count": 3,
   "id": "02062230-22bd-45bd-99c6-bf8a79bfcc2d",
   "metadata": {
    "ExecuteTime": {
     "start_time": "2023-04-24T21:19:29.450008Z",
     "end_time": "2023-04-24T21:19:29.512785Z"
    }
   },
   "outputs": [
    {
     "name": "stdout",
     "output_type": "stream",
     "text": [
      "<class 'pandas.core.frame.DataFrame'>\n",
      "RangeIndex: 946 entries, 0 to 945\n",
      "Data columns (total 9 columns):\n",
      " #   Column       Non-Null Count  Dtype  \n",
      "---  ------       --------------  -----  \n",
      " 0   title        946 non-null    object \n",
      " 1   author       824 non-null    object \n",
      " 2   price        944 non-null    float64\n",
      " 3   pages        934 non-null    float64\n",
      " 4   avg_reviews  823 non-null    float64\n",
      " 5   n_reviews    946 non-null    int64  \n",
      " 6   dimensions   914 non-null    object \n",
      " 7   weight       943 non-null    object \n",
      " 8   language     943 non-null    object \n",
      "dtypes: float64(3), int64(1), object(5)\n",
      "memory usage: 66.6+ KB\n"
     ]
    }
   ],
   "source": [
    "df = pd.read_csv(\"amazon_books_data.csv\")\n",
    "df.info()"
   ]
  },
  {
   "cell_type": "code",
   "execution_count": 4,
   "outputs": [],
   "source": [
    "### Data correction and imputation:"
   ],
   "metadata": {
    "collapsed": false,
    "ExecuteTime": {
     "start_time": "2023-04-24T21:19:29.997954Z",
     "end_time": "2023-04-24T21:19:30.028533Z"
    }
   }
  },
  {
   "cell_type": "code",
   "execution_count": 5,
   "outputs": [],
   "source": [
    "### Weight imputation:\n",
    "# TODO: maybe fix this\n",
    "df['weight'] = df['weight'].fillna(\"-1.0 pounds\")\n",
    "df['weight'] = df['weight'].apply(lambda x: float(str(x)[:-6]) * (1/16) if str(x).endswith('ounces') else float(str(x)[:-6]))\n",
    "mean = df[df['weight'] != -1.0]['weight'].mean()\n",
    "df[df['weight']==-1.0] = mean"
   ],
   "metadata": {
    "collapsed": false,
    "ExecuteTime": {
     "start_time": "2023-04-24T21:19:30.514498Z",
     "end_time": "2023-04-24T21:19:30.550397Z"
    }
   }
  },
  {
   "cell_type": "code",
   "execution_count": 6,
   "outputs": [
    {
     "name": "stderr",
     "output_type": "stream",
     "text": [
      "C:\\Users\\omere\\AppData\\Local\\Temp\\ipykernel_32612\\1929201070.py:4: SettingWithCopyWarning: \n",
      "A value is trying to be set on a copy of a slice from a DataFrame.\n",
      "Try using .loc[row_indexer,col_indexer] = value instead\n",
      "\n",
      "See the caveats in the documentation: https://pandas.pydata.org/pandas-docs/stable/user_guide/indexing.html#returning-a-view-versus-a-copy\n",
      "  df[df['pages'] == -1]['pages'] = mean\n"
     ]
    }
   ],
   "source": [
    "### Pages imputation:\n",
    "# TODO: fix this\n",
    "df['pages'] = df['pages'].fillna(-1)\n",
    "mean = round(df[df['pages'] != -1]['pages'].mean())\n",
    "df[df['pages'] == -1]['pages'] = mean"
   ],
   "metadata": {
    "collapsed": false,
    "ExecuteTime": {
     "start_time": "2023-04-24T21:22:04.101397Z",
     "end_time": "2023-04-24T21:22:04.120346Z"
    }
   }
  },
  {
   "cell_type": "code",
   "execution_count": 7,
   "outputs": [
    {
     "data": {
      "text/plain": "0       33.48000\n1       47.60000\n2       64.75000\n3       47.25000\n4       57.89700\n         ...    \n941     93.24000\n942     54.68124\n943    102.85000\n944     53.29500\n945     68.82000\nName: volume, Length: 946, dtype: float64"
     },
     "execution_count": 7,
     "metadata": {},
     "output_type": "execute_result"
    }
   ],
   "source": [
    "### Volume imputation\n",
    "def get_volume(dimensions):\n",
    "    dimensions = str(dimensions)[:-6]\n",
    "    dimensions = dimensions.split('x')\n",
    "    volume = 1.0\n",
    "    for length in dimensions:\n",
    "        volume *= float(length)\n",
    "    return float(volume)\n",
    "\n",
    "df['dimensions'] = df['dimensions'].fillna('-1 x -1 x -1 inches')\n",
    "df['volume'] = df['dimensions'].apply(get_volume)\n",
    "mean = df[df['volume'] != -1.0]['volume'].mean()\n",
    "df[df['volume']==-1.0] = mean\n",
    "df['volume']"
   ],
   "metadata": {
    "collapsed": false,
    "ExecuteTime": {
     "start_time": "2023-04-24T21:19:31.569292Z",
     "end_time": "2023-04-24T21:19:31.631165Z"
    }
   }
  },
  {
   "cell_type": "code",
   "execution_count": 8,
   "outputs": [],
   "source": [
    "### Price imputation:\n",
    "# TODO: maybe fix this\n",
    "mean = df['price'].mean()\n",
    "df['price'] = df['price'].fillna(mean)"
   ],
   "metadata": {
    "collapsed": false,
    "ExecuteTime": {
     "start_time": "2023-04-24T21:19:32.573563Z",
     "end_time": "2023-04-24T21:19:32.596500Z"
    }
   }
  },
  {
   "cell_type": "code",
   "execution_count": 9,
   "outputs": [
    {
     "data": {
      "text/plain": "0      272.0\n1      301.0\n2      446.0\n3      347.0\n4      413.0\n       ...  \n941    832.0\n942    260.0\n943    704.0\n944    252.0\n945    464.0\nName: pages, Length: 946, dtype: float64"
     },
     "execution_count": 9,
     "metadata": {},
     "output_type": "execute_result"
    }
   ],
   "source": [
    "df.pages"
   ],
   "metadata": {
    "collapsed": false,
    "ExecuteTime": {
     "start_time": "2023-04-24T21:19:33.657311Z",
     "end_time": "2023-04-24T21:19:33.699198Z"
    }
   }
  },
  {
   "cell_type": "markdown",
   "id": "4c919712-dccb-4dbc-8e3d-baa0f3d0e4b2",
   "metadata": {},
   "source": [
    "#### Question 1"
   ]
  },
  {
   "cell_type": "code",
   "execution_count": 10,
   "id": "49c51667-303d-4ae5-a449-bc61d58f1b13",
   "metadata": {
    "ExecuteTime": {
     "start_time": "2023-04-24T21:15:02.132518Z",
     "end_time": "2023-04-24T21:15:02.167410Z"
    }
   },
   "outputs": [
    {
     "data": {
      "text/plain": "        Column                  Type\n0        price  numerical-continuous\n1        pages    numerical-discrete\n2  avg_reviews  numerical-continuous\n3    n_reviews    numerical-discrete\n4     language   categorical-nominal",
      "text/html": "<div>\n<style scoped>\n    .dataframe tbody tr th:only-of-type {\n        vertical-align: middle;\n    }\n\n    .dataframe tbody tr th {\n        vertical-align: top;\n    }\n\n    .dataframe thead th {\n        text-align: right;\n    }\n</style>\n<table border=\"1\" class=\"dataframe\">\n  <thead>\n    <tr style=\"text-align: right;\">\n      <th></th>\n      <th>Column</th>\n      <th>Type</th>\n    </tr>\n  </thead>\n  <tbody>\n    <tr>\n      <th>0</th>\n      <td>price</td>\n      <td>numerical-continuous</td>\n    </tr>\n    <tr>\n      <th>1</th>\n      <td>pages</td>\n      <td>numerical-discrete</td>\n    </tr>\n    <tr>\n      <th>2</th>\n      <td>avg_reviews</td>\n      <td>numerical-continuous</td>\n    </tr>\n    <tr>\n      <th>3</th>\n      <td>n_reviews</td>\n      <td>numerical-discrete</td>\n    </tr>\n    <tr>\n      <th>4</th>\n      <td>language</td>\n      <td>categorical-nominal</td>\n    </tr>\n  </tbody>\n</table>\n</div>"
     },
     "execution_count": 10,
     "metadata": {},
     "output_type": "execute_result"
    }
   ],
   "source": [
    "### decide what data type each column is: numerical-discrete, numerical-continuous, categorical-nominal, categorical-ordinal\n",
    "### consider only [price, pages, avg_reviews, n_reviews, language] for this analysis\n",
    "### no need to add explanations, just the final answer\n",
    "\n",
    "# Final answer:\n",
    "# price - numerical-continuous\n",
    "# pages - numerical-discrete\n",
    "# avg_reviews - numerical-continuous\n",
    "# n_reviews - numerical-discrete\n",
    "# language - categorical-nominal\n",
    "\n",
    "answer_list = [('price', 'numerical-continuous'), ('pages', 'numerical-discrete'), ('avg_reviews', 'numerical-continuous'), ('n_reviews', 'numerical-discrete'), ('language', 'categorical-nominal')]\n",
    "answer_df = pd.DataFrame(answer_list, columns=['Column', 'Type'])\n",
    "answer_df"
   ]
  },
  {
   "cell_type": "markdown",
   "id": "165920b1-0135-4593-a162-8d4eba529990",
   "metadata": {},
   "source": [
    "#### Question 2"
   ]
  },
  {
   "cell_type": "code",
   "execution_count": 11,
   "id": "347ba3ec-c639-4589-bbd7-3f3449d31829",
   "metadata": {
    "ExecuteTime": {
     "start_time": "2023-04-24T21:17:20.554845Z",
     "end_time": "2023-04-24T21:17:20.577321Z"
    }
   },
   "outputs": [
    {
     "data": {
      "text/plain": "             0        1\n0  Correlation -0.21833",
      "text/html": "<div>\n<style scoped>\n    .dataframe tbody tr th:only-of-type {\n        vertical-align: middle;\n    }\n\n    .dataframe tbody tr th {\n        vertical-align: top;\n    }\n\n    .dataframe thead th {\n        text-align: right;\n    }\n</style>\n<table border=\"1\" class=\"dataframe\">\n  <thead>\n    <tr style=\"text-align: right;\">\n      <th></th>\n      <th>0</th>\n      <th>1</th>\n    </tr>\n  </thead>\n  <tbody>\n    <tr>\n      <th>0</th>\n      <td>Correlation</td>\n      <td>-0.21833</td>\n    </tr>\n  </tbody>\n</table>\n</div>"
     },
     "execution_count": 11,
     "metadata": {},
     "output_type": "execute_result"
    }
   ],
   "source": [
    "### compute Pearson's correlation between pages and weight in the data\n",
    "### (you can use the built-in Series.corr() function for that purpose)\n",
    "answer_df = pd.DataFrame([('Correlation', df['pages'].corr(df['weight']))])\n",
    "answer_df"
   ]
  },
  {
   "cell_type": "markdown",
   "id": "3dc58e4a-c25d-4267-b319-93891138bd5f",
   "metadata": {},
   "source": [
    "#### Question 3"
   ]
  },
  {
   "cell_type": "code",
   "execution_count": 12,
   "id": "d56c2046-fdd2-44e8-bd7b-0f6c4e191833",
   "metadata": {
    "ExecuteTime": {
     "start_time": "2023-04-24T21:15:02.193342Z",
     "end_time": "2023-04-24T21:15:02.622760Z"
    }
   },
   "outputs": [
    {
     "name": "stderr",
     "output_type": "stream",
     "text": [
      "*c* argument looks like a single numeric RGB or RGBA sequence, which should be avoided as value-mapping will have precedence in case its length matches with *x* & *y*.  Please use the *color* keyword-argument or provide a 2D array with a single row if you intend to specify the same RGB or RGBA value for all points.\n"
     ]
    },
    {
     "data": {
      "text/plain": "<AxesSubplot:xlabel='pages', ylabel='weight'>"
     },
     "execution_count": 12,
     "metadata": {},
     "output_type": "execute_result"
    },
    {
     "data": {
      "text/plain": "<Figure size 800x400 with 1 Axes>",
      "image/png": "[encoded data removed]"
     },
     "metadata": {},
     "output_type": "display_data"
    }
   ],
   "source": [
    "### show a scatter plot of pages (x) and weight (y)\n",
    "### do the results fit the score you got in the previous cell? (no need to print answer to this question)\n",
    "df[['pages', 'weight']].plot.scatter(x='pages', y='weight')"
   ]
  },
  {
   "cell_type": "markdown",
   "id": "756c9477-1a20-4962-9289-3dc593dd4ca5",
   "metadata": {},
   "source": [
    "#### Question 4"
   ]
  },
  {
   "cell_type": "code",
   "execution_count": 13,
   "id": "8cb0cdb7-8b3d-4a84-b30c-e59df8797135",
   "metadata": {
    "ExecuteTime": {
     "start_time": "2023-04-24T21:15:02.625744Z",
     "end_time": "2023-04-24T21:15:02.728824Z"
    }
   },
   "outputs": [
    {
     "data": {
      "text/plain": "             0         1\n0  Correlation  0.435822",
      "text/html": "<div>\n<style scoped>\n    .dataframe tbody tr th:only-of-type {\n        vertical-align: middle;\n    }\n\n    .dataframe tbody tr th {\n        vertical-align: top;\n    }\n\n    .dataframe thead th {\n        text-align: right;\n    }\n</style>\n<table border=\"1\" class=\"dataframe\">\n  <thead>\n    <tr style=\"text-align: right;\">\n      <th></th>\n      <th>0</th>\n      <th>1</th>\n    </tr>\n  </thead>\n  <tbody>\n    <tr>\n      <th>0</th>\n      <td>Correlation</td>\n      <td>0.435822</td>\n    </tr>\n  </tbody>\n</table>\n</div>"
     },
     "execution_count": 13,
     "metadata": {},
     "output_type": "execute_result"
    }
   ],
   "source": [
    "### compute Pearson's correlation between a book's volume (inferred by its dimensions) and price in the data\n",
    "### (you can use the built-in Series.corr() function for that purpose)\n",
    "answer_df = pd.DataFrame([('Correlation', df['volume'].corr(df['price']))])\n",
    "answer_df"
   ]
  },
  {
   "cell_type": "markdown",
   "id": "1f59426d-26d0-4110-bdc1-fafe3157edb7",
   "metadata": {},
   "source": [
    "#### Question 5"
   ]
  },
  {
   "cell_type": "code",
   "execution_count": 14,
   "id": "9bd71993-a837-4a79-82c4-06bc67ac2c38",
   "metadata": {
    "ExecuteTime": {
     "start_time": "2023-04-24T21:15:02.642281Z",
     "end_time": "2023-04-24T21:15:02.960400Z"
    }
   },
   "outputs": [
    {
     "name": "stderr",
     "output_type": "stream",
     "text": [
      "*c* argument looks like a single numeric RGB or RGBA sequence, which should be avoided as value-mapping will have precedence in case its length matches with *x* & *y*.  Please use the *color* keyword-argument or provide a 2D array with a single row if you intend to specify the same RGB or RGBA value for all points.\n"
     ]
    },
    {
     "data": {
      "text/plain": "<AxesSubplot:xlabel='volume', ylabel='price'>"
     },
     "execution_count": 14,
     "metadata": {},
     "output_type": "execute_result"
    },
    {
     "data": {
      "text/plain": "<Figure size 800x400 with 1 Axes>",
      "image/png": "[encoded data removed]"
     },
     "metadata": {},
     "output_type": "display_data"
    }
   ],
   "source": [
    "### show a scatter plot of a book's volume (inferred by its dimensions) and price\n",
    "### do the results fit the score you got in the previous cell? (no need to print answer to this question)\n",
    "df[['volume', 'price']].plot.scatter(x='volume', y='price')"
   ]
  },
  {
   "cell_type": "markdown",
   "id": "fea8fab2-2945-43df-b35d-9853c1afb669",
   "metadata": {},
   "source": [
    "#### Question 6"
   ]
  },
  {
   "cell_type": "code",
   "execution_count": 38,
   "id": "0d891df9-7692-4952-a2b9-45c91038ad20",
   "metadata": {
    "ExecuteTime": {
     "start_time": "2023-04-24T21:51:40.497553Z",
     "end_time": "2023-04-24T21:51:40.537149Z"
    }
   },
   "outputs": [
    {
     "data": {
      "text/plain": "                    Key Phrase  Count\n0                 data science    108\n1               data analytics     28\n2             data engineering      7\n3             machine learning    171\n4                   statistics    127\n5                deep learning    131\n6  natural language processing     13\n7                        Total    511",
      "text/html": "<div>\n<style scoped>\n    .dataframe tbody tr th:only-of-type {\n        vertical-align: middle;\n    }\n\n    .dataframe tbody tr th {\n        vertical-align: top;\n    }\n\n    .dataframe thead th {\n        text-align: right;\n    }\n</style>\n<table border=\"1\" class=\"dataframe\">\n  <thead>\n    <tr style=\"text-align: right;\">\n      <th></th>\n      <th>Key Phrase</th>\n      <th>Count</th>\n    </tr>\n  </thead>\n  <tbody>\n    <tr>\n      <th>0</th>\n      <td>data science</td>\n      <td>108</td>\n    </tr>\n    <tr>\n      <th>1</th>\n      <td>data analytics</td>\n      <td>28</td>\n    </tr>\n    <tr>\n      <th>2</th>\n      <td>data engineering</td>\n      <td>7</td>\n    </tr>\n    <tr>\n      <th>3</th>\n      <td>machine learning</td>\n      <td>171</td>\n    </tr>\n    <tr>\n      <th>4</th>\n      <td>statistics</td>\n      <td>127</td>\n    </tr>\n    <tr>\n      <th>5</th>\n      <td>deep learning</td>\n      <td>131</td>\n    </tr>\n    <tr>\n      <th>6</th>\n      <td>natural language processing</td>\n      <td>13</td>\n    </tr>\n    <tr>\n      <th>7</th>\n      <td>Total</td>\n      <td>511</td>\n    </tr>\n  </tbody>\n</table>\n</div>"
     },
     "execution_count": 38,
     "metadata": {},
     "output_type": "execute_result"
    }
   ],
   "source": [
    "### inspect book titles carefully: they can be roughly split by keyphrases:\n",
    "### ['data science', 'data analytics', 'data engineering', 'machine learning', 'statistics', \n",
    "### 'deep learning', 'natural language processing']\n",
    "\n",
    "### a book belongs to one of the above categories if its name contains the corresponding keyphrase\n",
    "### display the number of books that fall into each category and their total, in the same table\n",
    "### some books may not belong to any of the listed above categories\n",
    "\n",
    "key_phrases = ['data science', 'data analytics', 'data engineering', 'machine learning', 'statistics', 'deep learning', 'natural language processing']\n",
    "df['title'] = df['title'].apply(lambda x: str(x).lower())\n",
    "df['category'] = df['title'].apply(lambda x: [key_phrase for key_phrase in key_phrases if key_phrase in x])\n",
    "key_counts = list()\n",
    "for key_phrase in key_phrases:\n",
    "    df[key_phrase] = df['category'].apply(lambda x: 1 if key_phrase in x else 0)\n",
    "    key_counts.append((key_phrase, len(df[df[key_phrase] == 1])))\n",
    "\n",
    "total = len(df[df['category'].apply(lambda x: len(x) > 0)])\n",
    "key_counts.append(('Total', total))\n",
    "\n",
    "answer_df = pd.DataFrame(key_counts, columns=['Key Phrase', 'Count'])\n",
    "answer_df"
   ]
  },
  {
   "cell_type": "markdown",
   "id": "0c9f0ced-0fec-4ffa-a490-81dc78899680",
   "metadata": {},
   "source": [
    "#### Question 7"
   ]
  },
  {
   "cell_type": "code",
   "execution_count": 39,
   "id": "403786ac-bcad-4b79-af8c-37e2885deb78",
   "metadata": {
    "ExecuteTime": {
     "start_time": "2023-04-24T21:51:44.408446Z",
     "end_time": "2023-04-24T21:51:44.436867Z"
    }
   },
   "outputs": [
    {
     "data": {
      "text/plain": "                    Key Phrase  Count\n0             machine learning    171\n1                deep learning    131\n2                   statistics    127\n3                 data science    108\n4               data analytics     28\n5  natural language processing     13\n6             data engineering      7",
      "text/html": "<div>\n<style scoped>\n    .dataframe tbody tr th:only-of-type {\n        vertical-align: middle;\n    }\n\n    .dataframe tbody tr th {\n        vertical-align: top;\n    }\n\n    .dataframe thead th {\n        text-align: right;\n    }\n</style>\n<table border=\"1\" class=\"dataframe\">\n  <thead>\n    <tr style=\"text-align: right;\">\n      <th></th>\n      <th>Key Phrase</th>\n      <th>Count</th>\n    </tr>\n  </thead>\n  <tbody>\n    <tr>\n      <th>0</th>\n      <td>machine learning</td>\n      <td>171</td>\n    </tr>\n    <tr>\n      <th>1</th>\n      <td>deep learning</td>\n      <td>131</td>\n    </tr>\n    <tr>\n      <th>2</th>\n      <td>statistics</td>\n      <td>127</td>\n    </tr>\n    <tr>\n      <th>3</th>\n      <td>data science</td>\n      <td>108</td>\n    </tr>\n    <tr>\n      <th>4</th>\n      <td>data analytics</td>\n      <td>28</td>\n    </tr>\n    <tr>\n      <th>5</th>\n      <td>natural language processing</td>\n      <td>13</td>\n    </tr>\n    <tr>\n      <th>6</th>\n      <td>data engineering</td>\n      <td>7</td>\n    </tr>\n  </tbody>\n</table>\n</div>"
     },
     "execution_count": 39,
     "metadata": {},
     "output_type": "execute_result"
    }
   ],
   "source": [
    "### display the same result where the dataframe is sorted by the number of books, descending\n",
    "### no need to display the total amount in this result - drop it\n",
    "answer_df = answer_df.sort_values(by='Count', ascending=False)\n",
    "answer_df = answer_df.drop(index=7)\n",
    "answer_df.reset_index(drop=True, inplace=True)\n",
    "answer_df"
   ]
  },
  {
   "cell_type": "markdown",
   "id": "877ac449-b9cd-425e-873f-74e93dcfda45",
   "metadata": {},
   "source": [
    "#### Question 8"
   ]
  },
  {
   "cell_type": "code",
   "execution_count": 17,
   "id": "f9c6e631-a9de-49e9-95e7-c919bf789c90",
   "metadata": {
    "ExecuteTime": {
     "start_time": "2023-04-24T21:15:02.981423Z",
     "end_time": "2023-04-24T21:15:03.064457Z"
    }
   },
   "outputs": [],
   "source": [
    "### sample 10000 values from N~(10, 5)\n",
    "### for this purpose use https://numpy.org/doc/stable/reference/random/generated/numpy.random.normal.html\n",
    "\n",
    "### what portion of the distribution is found in the range (2.5, 17.5)? -- calculate using z table\n",
    "### (recall the NormalDist().cdf() function we used at the lecture)\n",
    "\n",
    "### what portion of the distribution is found in the range (2.5, 17.5)? -- compute empirically using the sampled values\n",
    "### report both values (calculated and empirical)"
   ]
  },
  {
   "cell_type": "markdown",
   "id": "d58f2b66-dc90-4c54-9499-66c46e3a192f",
   "metadata": {},
   "source": [
    "#### Question 9"
   ]
  },
  {
   "cell_type": "code",
   "execution_count": 18,
   "id": "1ca084c9-3a03-4219-9530-8bc6437a7a70",
   "metadata": {
    "ExecuteTime": {
     "start_time": "2023-04-24T21:15:02.996382Z",
     "end_time": "2023-04-24T21:15:03.064457Z"
    }
   },
   "outputs": [],
   "source": [
    "### compute confidence interval of 95% for the true population mean of a book price on Amazon\n",
    "### report left and right boundaries"
   ]
  },
  {
   "cell_type": "markdown",
   "id": "5a077478-b75e-4592-ae78-745678fa0820",
   "metadata": {},
   "source": [
    "#### Question 10"
   ]
  },
  {
   "cell_type": "code",
   "execution_count": 19,
   "id": "5aa994a1-d98f-4b12-aabf-9af310b49523",
   "metadata": {
    "ExecuteTime": {
     "start_time": "2023-04-24T21:15:03.012340Z",
     "end_time": "2023-04-24T21:15:03.064457Z"
    }
   },
   "outputs": [],
   "source": [
    "### can one say with (at least) 85% confidence that the true population mean of a book price resides within the [50.0, 53.0] interval?\n",
    "### show your computations, and print your answer: yes or no"
   ]
  },
  {
   "cell_type": "code",
   "execution_count": 19,
   "id": "dbecf6e4-e36c-4277-ad73-034421c088ae",
   "metadata": {
    "ExecuteTime": {
     "start_time": "2023-04-24T21:15:03.028189Z",
     "end_time": "2023-04-24T21:15:03.065455Z"
    }
   },
   "outputs": [],
   "source": []
  }
 ],
 "metadata": {
  "kernelspec": {
   "display_name": "Python 3 (ipykernel)",
   "language": "python",
   "name": "python3"
  },
  "language_info": {
   "codemirror_mode": {
    "name": "ipython",
    "version": 3
   },
   "file_extension": ".py",
   "mimetype": "text/x-python",
   "name": "python",
   "nbconvert_exporter": "python",
   "pygments_lexer": "ipython3",
   "version": "3.9.13"
  }
 },
 "nbformat": 4,
 "nbformat_minor": 5
}
